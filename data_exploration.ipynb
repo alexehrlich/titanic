{
  "cells": [
    {
      "cell_type": "markdown",
      "id": "e18454ac",
      "metadata": {},
      "source": [
        "# Data Exploaration of the titanic data set"
      ]
    },
    {
      "cell_type": "code",
      "execution_count": 388,
      "id": "d8f111c8",
      "metadata": {
        "id": "d8f111c8"
      },
      "outputs": [],
      "source": [
        "#import the relevant libaries\n",
        "import numpy as np\n",
        "import pandas as pd\n",
        "import matplotlib.pyplot as plt\n",
        "import seaborn as sns\n",
        "from collections import Counter"
      ]
    },
    {
      "cell_type": "code",
      "execution_count": 389,
      "id": "c9c71fa7",
      "metadata": {
        "colab": {
          "base_uri": "https://localhost:8080/",
          "height": 206
        },
        "id": "c9c71fa7",
        "outputId": "7bc640dd-f064-40db-8a8b-12c42e6478eb"
      },
      "outputs": [
        {
          "data": {
            "text/html": [
              "<div>\n",
              "<style scoped>\n",
              "    .dataframe tbody tr th:only-of-type {\n",
              "        vertical-align: middle;\n",
              "    }\n",
              "\n",
              "    .dataframe tbody tr th {\n",
              "        vertical-align: top;\n",
              "    }\n",
              "\n",
              "    .dataframe thead th {\n",
              "        text-align: right;\n",
              "    }\n",
              "</style>\n",
              "<table border=\"1\" class=\"dataframe\">\n",
              "  <thead>\n",
              "    <tr style=\"text-align: right;\">\n",
              "      <th></th>\n",
              "      <th>PassengerId</th>\n",
              "      <th>Survived</th>\n",
              "      <th>Pclass</th>\n",
              "      <th>Name</th>\n",
              "      <th>Sex</th>\n",
              "      <th>Age</th>\n",
              "      <th>SibSp</th>\n",
              "      <th>Parch</th>\n",
              "      <th>Ticket</th>\n",
              "      <th>Fare</th>\n",
              "      <th>Cabin</th>\n",
              "      <th>Embarked</th>\n",
              "    </tr>\n",
              "  </thead>\n",
              "  <tbody>\n",
              "    <tr>\n",
              "      <th>0</th>\n",
              "      <td>1</td>\n",
              "      <td>0</td>\n",
              "      <td>3</td>\n",
              "      <td>Braund, Mr. Owen Harris</td>\n",
              "      <td>male</td>\n",
              "      <td>22.0</td>\n",
              "      <td>1</td>\n",
              "      <td>0</td>\n",
              "      <td>A/5 21171</td>\n",
              "      <td>7.2500</td>\n",
              "      <td>NaN</td>\n",
              "      <td>S</td>\n",
              "    </tr>\n",
              "    <tr>\n",
              "      <th>1</th>\n",
              "      <td>2</td>\n",
              "      <td>1</td>\n",
              "      <td>1</td>\n",
              "      <td>Cumings, Mrs. John Bradley (Florence Briggs Th...</td>\n",
              "      <td>female</td>\n",
              "      <td>38.0</td>\n",
              "      <td>1</td>\n",
              "      <td>0</td>\n",
              "      <td>PC 17599</td>\n",
              "      <td>71.2833</td>\n",
              "      <td>C85</td>\n",
              "      <td>C</td>\n",
              "    </tr>\n",
              "    <tr>\n",
              "      <th>2</th>\n",
              "      <td>3</td>\n",
              "      <td>1</td>\n",
              "      <td>3</td>\n",
              "      <td>Heikkinen, Miss. Laina</td>\n",
              "      <td>female</td>\n",
              "      <td>26.0</td>\n",
              "      <td>0</td>\n",
              "      <td>0</td>\n",
              "      <td>STON/O2. 3101282</td>\n",
              "      <td>7.9250</td>\n",
              "      <td>NaN</td>\n",
              "      <td>S</td>\n",
              "    </tr>\n",
              "    <tr>\n",
              "      <th>3</th>\n",
              "      <td>4</td>\n",
              "      <td>1</td>\n",
              "      <td>1</td>\n",
              "      <td>Futrelle, Mrs. Jacques Heath (Lily May Peel)</td>\n",
              "      <td>female</td>\n",
              "      <td>35.0</td>\n",
              "      <td>1</td>\n",
              "      <td>0</td>\n",
              "      <td>113803</td>\n",
              "      <td>53.1000</td>\n",
              "      <td>C123</td>\n",
              "      <td>S</td>\n",
              "    </tr>\n",
              "    <tr>\n",
              "      <th>4</th>\n",
              "      <td>5</td>\n",
              "      <td>0</td>\n",
              "      <td>3</td>\n",
              "      <td>Allen, Mr. William Henry</td>\n",
              "      <td>male</td>\n",
              "      <td>35.0</td>\n",
              "      <td>0</td>\n",
              "      <td>0</td>\n",
              "      <td>373450</td>\n",
              "      <td>8.0500</td>\n",
              "      <td>NaN</td>\n",
              "      <td>S</td>\n",
              "    </tr>\n",
              "  </tbody>\n",
              "</table>\n",
              "</div>"
            ],
            "text/plain": [
              "   PassengerId  Survived  Pclass  \\\n",
              "0            1         0       3   \n",
              "1            2         1       1   \n",
              "2            3         1       3   \n",
              "3            4         1       1   \n",
              "4            5         0       3   \n",
              "\n",
              "                                                Name     Sex   Age  SibSp  \\\n",
              "0                            Braund, Mr. Owen Harris    male  22.0      1   \n",
              "1  Cumings, Mrs. John Bradley (Florence Briggs Th...  female  38.0      1   \n",
              "2                             Heikkinen, Miss. Laina  female  26.0      0   \n",
              "3       Futrelle, Mrs. Jacques Heath (Lily May Peel)  female  35.0      1   \n",
              "4                           Allen, Mr. William Henry    male  35.0      0   \n",
              "\n",
              "   Parch            Ticket     Fare Cabin Embarked  \n",
              "0      0         A/5 21171   7.2500   NaN        S  \n",
              "1      0          PC 17599  71.2833   C85        C  \n",
              "2      0  STON/O2. 3101282   7.9250   NaN        S  \n",
              "3      0            113803  53.1000  C123        S  \n",
              "4      0            373450   8.0500   NaN        S  "
            ]
          },
          "execution_count": 389,
          "metadata": {},
          "output_type": "execute_result"
        }
      ],
      "source": [
        "#Load the data\n",
        "train_df = pd.read_csv('train.csv')\n",
        "test_df = pd.read_csv('test.csv')\n",
        "\n",
        "train_df.head()"
      ]
    },
    {
      "cell_type": "code",
      "execution_count": 390,
      "id": "7439cc48",
      "metadata": {
        "colab": {
          "base_uri": "https://localhost:8080/"
        },
        "id": "7439cc48",
        "outputId": "6724264a-3c71-4e49-869d-d14998288227"
      },
      "outputs": [
        {
          "name": "stdout",
          "output_type": "stream",
          "text": [
            "<class 'pandas.core.frame.DataFrame'>\n",
            "RangeIndex: 891 entries, 0 to 890\n",
            "Data columns (total 12 columns):\n",
            " #   Column       Non-Null Count  Dtype  \n",
            "---  ------       --------------  -----  \n",
            " 0   PassengerId  891 non-null    int64  \n",
            " 1   Survived     891 non-null    int64  \n",
            " 2   Pclass       891 non-null    int64  \n",
            " 3   Name         891 non-null    object \n",
            " 4   Sex          891 non-null    object \n",
            " 5   Age          714 non-null    float64\n",
            " 6   SibSp        891 non-null    int64  \n",
            " 7   Parch        891 non-null    int64  \n",
            " 8   Ticket       891 non-null    object \n",
            " 9   Fare         891 non-null    float64\n",
            " 10  Cabin        204 non-null    object \n",
            " 11  Embarked     889 non-null    object \n",
            "dtypes: float64(2), int64(5), object(5)\n",
            "memory usage: 83.7+ KB\n"
          ]
        }
      ],
      "source": [
        "train_df.info()"
      ]
    },
    {
      "cell_type": "code",
      "execution_count": 391,
      "id": "55604a90",
      "metadata": {
        "colab": {
          "base_uri": "https://localhost:8080/",
          "height": 300
        },
        "id": "55604a90",
        "outputId": "8de7afb1-fc13-4a75-dfce-489cc1ddbde5"
      },
      "outputs": [
        {
          "data": {
            "text/html": [
              "<div>\n",
              "<style scoped>\n",
              "    .dataframe tbody tr th:only-of-type {\n",
              "        vertical-align: middle;\n",
              "    }\n",
              "\n",
              "    .dataframe tbody tr th {\n",
              "        vertical-align: top;\n",
              "    }\n",
              "\n",
              "    .dataframe thead th {\n",
              "        text-align: right;\n",
              "    }\n",
              "</style>\n",
              "<table border=\"1\" class=\"dataframe\">\n",
              "  <thead>\n",
              "    <tr style=\"text-align: right;\">\n",
              "      <th></th>\n",
              "      <th>PassengerId</th>\n",
              "      <th>Survived</th>\n",
              "      <th>Pclass</th>\n",
              "      <th>Age</th>\n",
              "      <th>SibSp</th>\n",
              "      <th>Parch</th>\n",
              "      <th>Fare</th>\n",
              "    </tr>\n",
              "  </thead>\n",
              "  <tbody>\n",
              "    <tr>\n",
              "      <th>count</th>\n",
              "      <td>891.000000</td>\n",
              "      <td>891.000000</td>\n",
              "      <td>891.000000</td>\n",
              "      <td>714.000000</td>\n",
              "      <td>891.000000</td>\n",
              "      <td>891.000000</td>\n",
              "      <td>891.000000</td>\n",
              "    </tr>\n",
              "    <tr>\n",
              "      <th>mean</th>\n",
              "      <td>446.000000</td>\n",
              "      <td>0.383838</td>\n",
              "      <td>2.308642</td>\n",
              "      <td>29.699118</td>\n",
              "      <td>0.523008</td>\n",
              "      <td>0.381594</td>\n",
              "      <td>32.204208</td>\n",
              "    </tr>\n",
              "    <tr>\n",
              "      <th>std</th>\n",
              "      <td>257.353842</td>\n",
              "      <td>0.486592</td>\n",
              "      <td>0.836071</td>\n",
              "      <td>14.526497</td>\n",
              "      <td>1.102743</td>\n",
              "      <td>0.806057</td>\n",
              "      <td>49.693429</td>\n",
              "    </tr>\n",
              "    <tr>\n",
              "      <th>min</th>\n",
              "      <td>1.000000</td>\n",
              "      <td>0.000000</td>\n",
              "      <td>1.000000</td>\n",
              "      <td>0.420000</td>\n",
              "      <td>0.000000</td>\n",
              "      <td>0.000000</td>\n",
              "      <td>0.000000</td>\n",
              "    </tr>\n",
              "    <tr>\n",
              "      <th>25%</th>\n",
              "      <td>223.500000</td>\n",
              "      <td>0.000000</td>\n",
              "      <td>2.000000</td>\n",
              "      <td>20.125000</td>\n",
              "      <td>0.000000</td>\n",
              "      <td>0.000000</td>\n",
              "      <td>7.910400</td>\n",
              "    </tr>\n",
              "    <tr>\n",
              "      <th>50%</th>\n",
              "      <td>446.000000</td>\n",
              "      <td>0.000000</td>\n",
              "      <td>3.000000</td>\n",
              "      <td>28.000000</td>\n",
              "      <td>0.000000</td>\n",
              "      <td>0.000000</td>\n",
              "      <td>14.454200</td>\n",
              "    </tr>\n",
              "    <tr>\n",
              "      <th>75%</th>\n",
              "      <td>668.500000</td>\n",
              "      <td>1.000000</td>\n",
              "      <td>3.000000</td>\n",
              "      <td>38.000000</td>\n",
              "      <td>1.000000</td>\n",
              "      <td>0.000000</td>\n",
              "      <td>31.000000</td>\n",
              "    </tr>\n",
              "    <tr>\n",
              "      <th>max</th>\n",
              "      <td>891.000000</td>\n",
              "      <td>1.000000</td>\n",
              "      <td>3.000000</td>\n",
              "      <td>80.000000</td>\n",
              "      <td>8.000000</td>\n",
              "      <td>6.000000</td>\n",
              "      <td>512.329200</td>\n",
              "    </tr>\n",
              "  </tbody>\n",
              "</table>\n",
              "</div>"
            ],
            "text/plain": [
              "       PassengerId    Survived      Pclass         Age       SibSp  \\\n",
              "count   891.000000  891.000000  891.000000  714.000000  891.000000   \n",
              "mean    446.000000    0.383838    2.308642   29.699118    0.523008   \n",
              "std     257.353842    0.486592    0.836071   14.526497    1.102743   \n",
              "min       1.000000    0.000000    1.000000    0.420000    0.000000   \n",
              "25%     223.500000    0.000000    2.000000   20.125000    0.000000   \n",
              "50%     446.000000    0.000000    3.000000   28.000000    0.000000   \n",
              "75%     668.500000    1.000000    3.000000   38.000000    1.000000   \n",
              "max     891.000000    1.000000    3.000000   80.000000    8.000000   \n",
              "\n",
              "            Parch        Fare  \n",
              "count  891.000000  891.000000  \n",
              "mean     0.381594   32.204208  \n",
              "std      0.806057   49.693429  \n",
              "min      0.000000    0.000000  \n",
              "25%      0.000000    7.910400  \n",
              "50%      0.000000   14.454200  \n",
              "75%      0.000000   31.000000  \n",
              "max      6.000000  512.329200  "
            ]
          },
          "execution_count": 391,
          "metadata": {},
          "output_type": "execute_result"
        }
      ],
      "source": [
        "train_df.describe()"
      ]
    },
    {
      "cell_type": "markdown",
      "id": "bd8d660f",
      "metadata": {
        "id": "bd8d660f"
      },
      "source": [
        "### Interpretation of the descriptive statistics\n",
        "\n",
        "- 38,3% of the training set survived\n",
        "- Age ranges from 0.4 to 80 years. Age has a lot of missing values. Mean and median age are close.\n",
        "- 50% had no sib or spouse. 75% had 1.0 or less than one sibling or spouse.\n",
        "- 75% had no parent or child on board\n",
        "- The mean fare is almost twice as big as median --> outlier\n",
        "- A lot of missing values in the cabin --> What to do with them?\n",
        "- only two missing values in the Embarked --> drop them :)\n",
        "- There were a few big family groups"
      ]
    },
    {
      "cell_type": "markdown",
      "id": "303a6c01",
      "metadata": {},
      "source": [
        "Captain died"
      ]
    },
    {
      "cell_type": "code",
      "execution_count": 392,
      "id": "8033e59e",
      "metadata": {
        "colab": {
          "base_uri": "https://localhost:8080/",
          "height": 81
        },
        "id": "8033e59e",
        "outputId": "512ed3fa-743f-4cc8-dfb5-8886893cf7f5"
      },
      "outputs": [
        {
          "data": {
            "text/html": [
              "<div>\n",
              "<style scoped>\n",
              "    .dataframe tbody tr th:only-of-type {\n",
              "        vertical-align: middle;\n",
              "    }\n",
              "\n",
              "    .dataframe tbody tr th {\n",
              "        vertical-align: top;\n",
              "    }\n",
              "\n",
              "    .dataframe thead th {\n",
              "        text-align: right;\n",
              "    }\n",
              "</style>\n",
              "<table border=\"1\" class=\"dataframe\">\n",
              "  <thead>\n",
              "    <tr style=\"text-align: right;\">\n",
              "      <th></th>\n",
              "      <th>PassengerId</th>\n",
              "      <th>Survived</th>\n",
              "      <th>Pclass</th>\n",
              "      <th>Name</th>\n",
              "      <th>Sex</th>\n",
              "      <th>Age</th>\n",
              "      <th>SibSp</th>\n",
              "      <th>Parch</th>\n",
              "      <th>Ticket</th>\n",
              "      <th>Fare</th>\n",
              "      <th>Cabin</th>\n",
              "      <th>Embarked</th>\n",
              "    </tr>\n",
              "  </thead>\n",
              "  <tbody>\n",
              "    <tr>\n",
              "      <th>745</th>\n",
              "      <td>746</td>\n",
              "      <td>0</td>\n",
              "      <td>1</td>\n",
              "      <td>Crosby, Capt. Edward Gifford</td>\n",
              "      <td>male</td>\n",
              "      <td>70.0</td>\n",
              "      <td>1</td>\n",
              "      <td>1</td>\n",
              "      <td>WE/P 5735</td>\n",
              "      <td>71.0</td>\n",
              "      <td>B22</td>\n",
              "      <td>S</td>\n",
              "    </tr>\n",
              "  </tbody>\n",
              "</table>\n",
              "</div>"
            ],
            "text/plain": [
              "     PassengerId  Survived  Pclass                          Name   Sex   Age  \\\n",
              "745          746         0       1  Crosby, Capt. Edward Gifford  male  70.0   \n",
              "\n",
              "     SibSp  Parch     Ticket  Fare Cabin Embarked  \n",
              "745      1      1  WE/P 5735  71.0   B22        S  "
            ]
          },
          "execution_count": 392,
          "metadata": {},
          "output_type": "execute_result"
        }
      ],
      "source": [
        "train_df[train_df['Name'].str.contains('Capt')]"
      ]
    },
    {
      "cell_type": "markdown",
      "id": "749f085a",
      "metadata": {},
      "source": [
        "Harriet was the daughter of the captain and she survived"
      ]
    },
    {
      "cell_type": "code",
      "execution_count": 393,
      "id": "aba68e2a",
      "metadata": {
        "colab": {
          "base_uri": "https://localhost:8080/",
          "height": 112
        },
        "id": "aba68e2a",
        "outputId": "53d1d4a5-7add-4a14-c864-75332db1c8ca"
      },
      "outputs": [
        {
          "data": {
            "text/html": [
              "<div>\n",
              "<style scoped>\n",
              "    .dataframe tbody tr th:only-of-type {\n",
              "        vertical-align: middle;\n",
              "    }\n",
              "\n",
              "    .dataframe tbody tr th {\n",
              "        vertical-align: top;\n",
              "    }\n",
              "\n",
              "    .dataframe thead th {\n",
              "        text-align: right;\n",
              "    }\n",
              "</style>\n",
              "<table border=\"1\" class=\"dataframe\">\n",
              "  <thead>\n",
              "    <tr style=\"text-align: right;\">\n",
              "      <th></th>\n",
              "      <th>PassengerId</th>\n",
              "      <th>Survived</th>\n",
              "      <th>Pclass</th>\n",
              "      <th>Name</th>\n",
              "      <th>Sex</th>\n",
              "      <th>Age</th>\n",
              "      <th>SibSp</th>\n",
              "      <th>Parch</th>\n",
              "      <th>Ticket</th>\n",
              "      <th>Fare</th>\n",
              "      <th>Cabin</th>\n",
              "      <th>Embarked</th>\n",
              "    </tr>\n",
              "  </thead>\n",
              "  <tbody>\n",
              "    <tr>\n",
              "      <th>540</th>\n",
              "      <td>541</td>\n",
              "      <td>1</td>\n",
              "      <td>1</td>\n",
              "      <td>Crosby, Miss. Harriet R</td>\n",
              "      <td>female</td>\n",
              "      <td>36.0</td>\n",
              "      <td>0</td>\n",
              "      <td>2</td>\n",
              "      <td>WE/P 5735</td>\n",
              "      <td>71.0</td>\n",
              "      <td>B22</td>\n",
              "      <td>S</td>\n",
              "    </tr>\n",
              "    <tr>\n",
              "      <th>745</th>\n",
              "      <td>746</td>\n",
              "      <td>0</td>\n",
              "      <td>1</td>\n",
              "      <td>Crosby, Capt. Edward Gifford</td>\n",
              "      <td>male</td>\n",
              "      <td>70.0</td>\n",
              "      <td>1</td>\n",
              "      <td>1</td>\n",
              "      <td>WE/P 5735</td>\n",
              "      <td>71.0</td>\n",
              "      <td>B22</td>\n",
              "      <td>S</td>\n",
              "    </tr>\n",
              "  </tbody>\n",
              "</table>\n",
              "</div>"
            ],
            "text/plain": [
              "     PassengerId  Survived  Pclass                          Name     Sex  \\\n",
              "540          541         1       1       Crosby, Miss. Harriet R  female   \n",
              "745          746         0       1  Crosby, Capt. Edward Gifford    male   \n",
              "\n",
              "      Age  SibSp  Parch     Ticket  Fare Cabin Embarked  \n",
              "540  36.0      0      2  WE/P 5735  71.0   B22        S  \n",
              "745  70.0      1      1  WE/P 5735  71.0   B22        S  "
            ]
          },
          "execution_count": 393,
          "metadata": {},
          "output_type": "execute_result"
        }
      ],
      "source": [
        "cabin_df = train_df[train_df['Cabin'].notna()]\n",
        "cabin_df[cabin_df['Cabin'].str.contains('B22')]"
      ]
    },
    {
      "cell_type": "markdown",
      "id": "65884978",
      "metadata": {},
      "source": [
        "# Investigation of the correlation of the features with the survival rate"
      ]
    },
    {
      "cell_type": "markdown",
      "id": "1119e068",
      "metadata": {},
      "source": [
        "### Some first preparations for analyzing the data\n",
        "\n",
        "- extract title feature instead of Name\n",
        "- extract Deck feature instead of cabin"
      ]
    },
    {
      "cell_type": "code",
      "execution_count": 394,
      "id": "1uwLPvqttphD",
      "metadata": {
        "id": "1uwLPvqttphD"
      },
      "outputs": [
        {
          "name": "stdout",
          "output_type": "stream",
          "text": [
            "<class 'pandas.core.frame.DataFrame'>\n",
            "RangeIndex: 891 entries, 0 to 890\n",
            "Data columns (total 10 columns):\n",
            " #   Column    Non-Null Count  Dtype  \n",
            "---  ------    --------------  -----  \n",
            " 0   Survived  891 non-null    int64  \n",
            " 1   Pclass    891 non-null    int64  \n",
            " 2   Sex       891 non-null    object \n",
            " 3   Age       714 non-null    float64\n",
            " 4   SibSp     891 non-null    int64  \n",
            " 5   Parch     891 non-null    int64  \n",
            " 6   Fare      891 non-null    float64\n",
            " 7   Embarked  889 non-null    object \n",
            " 8   Title     873 non-null    object \n",
            " 9   Deck      204 non-null    object \n",
            "dtypes: float64(2), int64(4), object(4)\n",
            "memory usage: 69.7+ KB\n"
          ]
        }
      ],
      "source": [
        "train_df = train_df[['Survived', 'Pclass', 'Name', 'Sex', 'Age', 'SibSp', 'Parch', 'Fare', 'Embarked', 'Cabin']]\n",
        "train_df.loc[train_df['Name'].str.contains('Mr.'), 'Title'] = 'MR'\n",
        "train_df.loc[train_df['Name'].str.contains('Mrs.'), 'Title'] = 'MRS'\n",
        "train_df.loc[train_df['Name'].str.contains('Miss.'), 'Title'] = 'MISS'\n",
        "train_df.loc[train_df['Name'].str.contains('Master.'), 'Title'] = 'MASTER'\n",
        "train_df.loc[train_df['Name'].str.contains('Rev.'), 'Title'] = 'REV'\n",
        "\n",
        "train_df['Deck'] = train_df['Cabin'].str[0]\n",
        "\n",
        "train_df.drop(['Name', 'Cabin'], axis=1, inplace=True)\n",
        "\n",
        "train_df.info()"
      ]
    },
    {
      "cell_type": "markdown",
      "id": "504df996",
      "metadata": {},
      "source": [
        "### Plotting features against survival rate"
      ]
    },
    {
      "cell_type": "code",
      "execution_count": 395,
      "id": "0662d391",
      "metadata": {},
      "outputs": [],
      "source": [
        "def plot_survival_for_class_features(df, feature, bar_width=0.2):\n",
        "  df = df[df[feature].notna()]\n",
        "  category_counter = Counter(df[feature].to_list())\n",
        "  groups = ['Died', 'Survived']\n",
        "\n",
        "  x = sorted(list(category_counter.keys()))\n",
        "  bars = []\n",
        "\n",
        "  for idx in range(len(groups)):\n",
        "    if (idx == 0):\n",
        "        bars.append(np.arange(len(x)))\n",
        "    else:\n",
        "        bars.append([x_i + bar_width for x_i in bars[idx - 1]])\n",
        "\n",
        "  category_stats = {}\n",
        "  for idx, category in enumerate(x):\n",
        "    cat_df = df[df[feature] == category]\n",
        "    counter = Counter(cat_df['Survived'].to_list())\n",
        "    category_stats[category] = counter\n",
        "\n",
        "  fig, axs = plt.subplots(nrows=1, ncols=2, figsize=(12, 6))\n",
        "  axs = axs.flatten()\n",
        "  cat_sizes =[max(category_stats[cat][0] + category_stats[cat][1], 1) for cat in x] #avoid division by zero\n",
        "  for idx, group in enumerate(groups):\n",
        "    axs[0].bar(bars[idx], [category_stats[cat][idx] for cat in x], label=group, width=bar_width)\n",
        "    axs[1].bar(bars[idx], [category_stats[cat][idx] / cat_size for cat, cat_size in zip(x, cat_sizes)], width=bar_width)\n",
        "\n",
        "  padding = 0 if len(bars) % 2 != 0 else bar_width/2\n",
        "  middle_bar = bars[len(bars) // 2] if len(bars) % 2 != 0 else bars[len(bars) // 2 - 1]\n",
        "  fig.suptitle(f\"Survival rate vs. {feature}\")\n",
        "  axs[0].legend()\n",
        "  axs[0].set_ylabel('# of passenger')\n",
        "  axs[1].set_ylabel('% of all category')\n",
        "  axs[0].set_xticks(ticks=[x_i + padding for x_i in middle_bar], labels=x)\n",
        "  axs[1].set_xticks(ticks=[x_i + padding for x_i in middle_bar], labels=x)\n",
        "  plt.show()"
      ]
    },
    {
      "cell_type": "markdown",
      "id": "54bb315e",
      "metadata": {},
      "source": [
        "### 1. Deck"
      ]
    },
    {
      "cell_type": "code",
      "execution_count": 396,
      "id": "8c5e101e",
      "metadata": {},
      "outputs": [
        {
          "data": {
            "image/png": "[encoded data removed]",
            "text/plain": [
              "<Figure size 1200x600 with 2 Axes>"
            ]
          },
          "metadata": {},
          "output_type": "display_data"
        },
        {
          "data": {
            "text/plain": [
              "Deck\n",
              "A     39.623887\n",
              "B    113.505764\n",
              "C    100.151341\n",
              "D     57.244576\n",
              "E     46.026694\n",
              "F     18.696792\n",
              "G     13.581250\n",
              "T     35.500000\n",
              "Name: Fare, dtype: float64"
            ]
          },
          "execution_count": 396,
          "metadata": {},
          "output_type": "execute_result"
        }
      ],
      "source": [
        "plot_survival_for_class_features(train_df, 'Deck')\n",
        "train_df.groupby('Deck')['Fare'].mean()"
      ]
    },
    {
      "cell_type": "markdown",
      "id": "28ac1b4a",
      "metadata": {},
      "source": [
        "A, B, and C are the highclass decks --> A should have a way higher fare???"
      ]
    },
    {
      "cell_type": "markdown",
      "id": "6f0290ab",
      "metadata": {},
      "source": [
        "### 2. Sex"
      ]
    },
    {
      "cell_type": "code",
      "execution_count": 397,
      "id": "bFCZwAsWzJl2",
      "metadata": {
        "colab": {
          "base_uri": "https://localhost:8080/",
          "height": 587
        },
        "id": "bFCZwAsWzJl2",
        "outputId": "6cb18295-80c8-4214-b179-ab65413cf0cd"
      },
      "outputs": [
        {
          "data": {
            "image/png": "[encoded data removed]",
            "text/plain": [
              "<Figure size 1200x600 with 2 Axes>"
            ]
          },
          "metadata": {},
          "output_type": "display_data"
        },
        {
          "data": {
            "text/plain": [
              "Sex     Survived\n",
              "female  0            81\n",
              "        1           233\n",
              "male    0           468\n",
              "        1           109\n",
              "dtype: int64"
            ]
          },
          "execution_count": 397,
          "metadata": {},
          "output_type": "execute_result"
        }
      ],
      "source": [
        "plot_survival_for_class_features(train_df, 'Sex')\n",
        "train_df.groupby(['Sex', 'Survived']).size()"
      ]
    },
    {
      "cell_type": "markdown",
      "id": "ab32974a",
      "metadata": {},
      "source": [
        "### 3. Parch (Parent or children)"
      ]
    },
    {
      "cell_type": "code",
      "execution_count": 398,
      "id": "tfuqISkuPBs4",
      "metadata": {
        "colab": {
          "base_uri": "https://localhost:8080/",
          "height": 587
        },
        "id": "tfuqISkuPBs4",
        "outputId": "0397fd54-4ac9-4d85-f63b-dc39f6c11999"
      },
      "outputs": [
        {
          "data": {
            "image/png": "[encoded data removed]",
            "text/plain": [
              "<Figure size 1200x600 with 2 Axes>"
            ]
          },
          "metadata": {},
          "output_type": "display_data"
        }
      ],
      "source": [
        "plot_survival_for_class_features(train_df, 'Parch', bar_width=0.1)"
      ]
    },
    {
      "cell_type": "markdown",
      "id": "80f65f59",
      "metadata": {},
      "source": [
        "### 4. SibSp (Siblings or spouse)"
      ]
    },
    {
      "cell_type": "code",
      "execution_count": 399,
      "id": "_3PHJvFZPH8a",
      "metadata": {
        "colab": {
          "base_uri": "https://localhost:8080/",
          "height": 587
        },
        "id": "_3PHJvFZPH8a",
        "outputId": "debebf00-2781-48f3-807c-ac218b91e28c"
      },
      "outputs": [
        {
          "data": {
            "image/png": "[encoded data removed]",
            "text/plain": [
              "<Figure size 1200x600 with 2 Axes>"
            ]
          },
          "metadata": {},
          "output_type": "display_data"
        }
      ],
      "source": [
        "plot_survival_for_class_features(train_df, 'SibSp', bar_width=0.1)"
      ]
    },
    {
      "cell_type": "markdown",
      "id": "3911166a",
      "metadata": {},
      "source": [
        "### 5. Pclass (Passenger class)"
      ]
    },
    {
      "cell_type": "code",
      "execution_count": 400,
      "id": "S6zkpxHRPSyo",
      "metadata": {
        "colab": {
          "base_uri": "https://localhost:8080/",
          "height": 587
        },
        "id": "S6zkpxHRPSyo",
        "outputId": "7dd2fe18-e21c-4bb9-e1c5-dc2c74550821"
      },
      "outputs": [
        {
          "data": {
            "image/png": "[encoded data removed]",
            "text/plain": [
              "<Figure size 1200x600 with 2 Axes>"
            ]
          },
          "metadata": {},
          "output_type": "display_data"
        }
      ],
      "source": [
        "plot_survival_for_class_features(train_df, 'Pclass')"
      ]
    },
    {
      "cell_type": "markdown",
      "id": "21fa722a",
      "metadata": {},
      "source": [
        "### 6. Embarked"
      ]
    },
    {
      "cell_type": "code",
      "execution_count": 401,
      "id": "DIxefe45Pdqg",
      "metadata": {
        "colab": {
          "base_uri": "https://localhost:8080/",
          "height": 587
        },
        "id": "DIxefe45Pdqg",
        "outputId": "7d85a4c1-35f5-4ece-ffea-17908ca84029"
      },
      "outputs": [
        {
          "data": {
            "image/png": "[encoded data removed]",
            "text/plain": [
              "<Figure size 1200x600 with 2 Axes>"
            ]
          },
          "metadata": {},
          "output_type": "display_data"
        }
      ],
      "source": [
        "plot_survival_for_class_features(train_df, 'Embarked')"
      ]
    },
    {
      "cell_type": "markdown",
      "id": "53262503",
      "metadata": {},
      "source": [
        "### 7. Title"
      ]
    },
    {
      "cell_type": "code",
      "execution_count": 402,
      "id": "65082de2",
      "metadata": {},
      "outputs": [
        {
          "data": {
            "image/png": "[encoded data removed]",
            "text/plain": [
              "<Figure size 1200x600 with 2 Axes>"
            ]
          },
          "metadata": {},
          "output_type": "display_data"
        }
      ],
      "source": [
        "plot_survival_for_class_features(train_df, 'Title')"
      ]
    },
    {
      "cell_type": "markdown",
      "id": "d0548876",
      "metadata": {},
      "source": [
        "### 8. Age"
      ]
    },
    {
      "cell_type": "code",
      "execution_count": 403,
      "id": "kC9QTJHRBJjC",
      "metadata": {
        "colab": {
          "base_uri": "https://localhost:8080/",
          "height": 582
        },
        "id": "kC9QTJHRBJjC",
        "outputId": "b4119a6f-87ae-44fd-ffb8-b038cb9e74bf"
      },
      "outputs": [
        {
          "data": {
            "image/png": "[encoded data removed]",
            "text/plain": [
              "<Figure size 1200x600 with 2 Axes>"
            ]
          },
          "metadata": {},
          "output_type": "display_data"
        }
      ],
      "source": [
        "def create_buckets(df, feature, bucket_size=5):\n",
        "  max = int(train_df[feature].max(axis=0))\n",
        "  max = max - max % bucket_size + bucket_size\n",
        "\n",
        "  buckets = {step: [] for step in range(0, max + bucket_size, bucket_size)}\n",
        "\n",
        "  for age in df['Age']:\n",
        "    if pd.isna(age):\n",
        "        continue\n",
        "    bucket = int(np.floor(age // bucket_size) * bucket_size)\n",
        "    buckets[bucket].append(age)\n",
        "  return buckets\n",
        "\n",
        "male_survived_df = train_df[(train_df['Sex'] == 'male') & (train_df['Survived'] == 1)]\n",
        "male_died_df = train_df[(train_df['Sex'] == 'male') & (train_df['Survived'] == 0)]\n",
        "female_survived_df = train_df[(train_df['Sex'] == 'female') & (train_df['Survived'] == 1)]\n",
        "female_died_df = train_df[(train_df['Sex'] == 'female') & (train_df['Survived'] == 0)]\n",
        "\n",
        "male_survived_buckets = create_buckets(male_survived_df, 'Age')\n",
        "male_died_buckets = create_buckets(male_died_df, 'Age')\n",
        "female_survived_buckets = create_buckets(female_survived_df, 'Age')\n",
        "female_died_buckets = create_buckets(female_died_df, 'Age')\n",
        "\n",
        "fig, axes = plt.subplots(nrows=1, ncols=2, sharey=True, figsize=(12,6))\n",
        "axes = axes.flatten()\n",
        "\n",
        "plt.suptitle(\"Age & Sex vs. Survival Rate\")\n",
        "ages = [age for age in male_died_buckets.keys()]\n",
        "axes[0].bar(ages, [len(count) for count in male_died_buckets.values()], width=2.8, alpha=0.5, label='died')\n",
        "axes[0].bar(ages, [len(count) for count in male_survived_buckets.values()], width=2.8, alpha=0.5, label='survived')\n",
        "axes[0].set_title('Male')\n",
        "axes[0].legend()\n",
        "\n",
        "axes[1].bar(ages, [len(count) for count in female_died_buckets.values()], width=2.8, alpha=0.5, label='died')\n",
        "axes[1].bar(ages, [len(count) for count in female_survived_buckets.values()], width=2.8, alpha=0.5, label='survived')\n",
        "axes[1].set_title('Female')\n",
        "axes[1].legend()\n",
        "\n",
        "plt.show()"
      ]
    },
    {
      "cell_type": "markdown",
      "id": "a25f26a8",
      "metadata": {},
      "source": [
        "### 9. Fare"
      ]
    },
    {
      "cell_type": "code",
      "execution_count": 404,
      "id": "6832fb7f",
      "metadata": {},
      "outputs": [
        {
          "data": {
            "image/png": "[encoded data removed]",
            "text/plain": [
              "<Figure size 1200x600 with 2 Axes>"
            ]
          },
          "metadata": {},
          "output_type": "display_data"
        },
        {
          "data": {
            "text/html": [
              "<div>\n",
              "<style scoped>\n",
              "    .dataframe tbody tr th:only-of-type {\n",
              "        vertical-align: middle;\n",
              "    }\n",
              "\n",
              "    .dataframe tbody tr th {\n",
              "        vertical-align: top;\n",
              "    }\n",
              "\n",
              "    .dataframe thead th {\n",
              "        text-align: right;\n",
              "    }\n",
              "</style>\n",
              "<table border=\"1\" class=\"dataframe\">\n",
              "  <thead>\n",
              "    <tr style=\"text-align: right;\">\n",
              "      <th></th>\n",
              "      <th>Survived</th>\n",
              "      <th>Pclass</th>\n",
              "      <th>Sex</th>\n",
              "      <th>Age</th>\n",
              "      <th>SibSp</th>\n",
              "      <th>Parch</th>\n",
              "      <th>Fare</th>\n",
              "      <th>Embarked</th>\n",
              "      <th>Title</th>\n",
              "      <th>Deck</th>\n",
              "    </tr>\n",
              "  </thead>\n",
              "  <tbody>\n",
              "    <tr>\n",
              "      <th>0</th>\n",
              "      <td>0</td>\n",
              "      <td>3</td>\n",
              "      <td>male</td>\n",
              "      <td>22.0</td>\n",
              "      <td>1</td>\n",
              "      <td>0</td>\n",
              "      <td>7.2500</td>\n",
              "      <td>S</td>\n",
              "      <td>MR</td>\n",
              "      <td>NaN</td>\n",
              "    </tr>\n",
              "    <tr>\n",
              "      <th>1</th>\n",
              "      <td>1</td>\n",
              "      <td>1</td>\n",
              "      <td>female</td>\n",
              "      <td>38.0</td>\n",
              "      <td>1</td>\n",
              "      <td>0</td>\n",
              "      <td>71.2833</td>\n",
              "      <td>C</td>\n",
              "      <td>MRS</td>\n",
              "      <td>C</td>\n",
              "    </tr>\n",
              "    <tr>\n",
              "      <th>2</th>\n",
              "      <td>1</td>\n",
              "      <td>3</td>\n",
              "      <td>female</td>\n",
              "      <td>26.0</td>\n",
              "      <td>0</td>\n",
              "      <td>0</td>\n",
              "      <td>7.9250</td>\n",
              "      <td>S</td>\n",
              "      <td>MISS</td>\n",
              "      <td>NaN</td>\n",
              "    </tr>\n",
              "    <tr>\n",
              "      <th>3</th>\n",
              "      <td>1</td>\n",
              "      <td>1</td>\n",
              "      <td>female</td>\n",
              "      <td>35.0</td>\n",
              "      <td>1</td>\n",
              "      <td>0</td>\n",
              "      <td>53.1000</td>\n",
              "      <td>S</td>\n",
              "      <td>MRS</td>\n",
              "      <td>C</td>\n",
              "    </tr>\n",
              "    <tr>\n",
              "      <th>4</th>\n",
              "      <td>0</td>\n",
              "      <td>3</td>\n",
              "      <td>male</td>\n",
              "      <td>35.0</td>\n",
              "      <td>0</td>\n",
              "      <td>0</td>\n",
              "      <td>8.0500</td>\n",
              "      <td>S</td>\n",
              "      <td>MR</td>\n",
              "      <td>NaN</td>\n",
              "    </tr>\n",
              "    <tr>\n",
              "      <th>...</th>\n",
              "      <td>...</td>\n",
              "      <td>...</td>\n",
              "      <td>...</td>\n",
              "      <td>...</td>\n",
              "      <td>...</td>\n",
              "      <td>...</td>\n",
              "      <td>...</td>\n",
              "      <td>...</td>\n",
              "      <td>...</td>\n",
              "      <td>...</td>\n",
              "    </tr>\n",
              "    <tr>\n",
              "      <th>886</th>\n",
              "      <td>0</td>\n",
              "      <td>2</td>\n",
              "      <td>male</td>\n",
              "      <td>27.0</td>\n",
              "      <td>0</td>\n",
              "      <td>0</td>\n",
              "      <td>13.0000</td>\n",
              "      <td>S</td>\n",
              "      <td>REV</td>\n",
              "      <td>NaN</td>\n",
              "    </tr>\n",
              "    <tr>\n",
              "      <th>887</th>\n",
              "      <td>1</td>\n",
              "      <td>1</td>\n",
              "      <td>female</td>\n",
              "      <td>19.0</td>\n",
              "      <td>0</td>\n",
              "      <td>0</td>\n",
              "      <td>30.0000</td>\n",
              "      <td>S</td>\n",
              "      <td>MISS</td>\n",
              "      <td>B</td>\n",
              "    </tr>\n",
              "    <tr>\n",
              "      <th>888</th>\n",
              "      <td>0</td>\n",
              "      <td>3</td>\n",
              "      <td>female</td>\n",
              "      <td>NaN</td>\n",
              "      <td>1</td>\n",
              "      <td>2</td>\n",
              "      <td>23.4500</td>\n",
              "      <td>S</td>\n",
              "      <td>MISS</td>\n",
              "      <td>NaN</td>\n",
              "    </tr>\n",
              "    <tr>\n",
              "      <th>889</th>\n",
              "      <td>1</td>\n",
              "      <td>1</td>\n",
              "      <td>male</td>\n",
              "      <td>26.0</td>\n",
              "      <td>0</td>\n",
              "      <td>0</td>\n",
              "      <td>30.0000</td>\n",
              "      <td>C</td>\n",
              "      <td>MR</td>\n",
              "      <td>C</td>\n",
              "    </tr>\n",
              "    <tr>\n",
              "      <th>890</th>\n",
              "      <td>0</td>\n",
              "      <td>3</td>\n",
              "      <td>male</td>\n",
              "      <td>32.0</td>\n",
              "      <td>0</td>\n",
              "      <td>0</td>\n",
              "      <td>7.7500</td>\n",
              "      <td>Q</td>\n",
              "      <td>MR</td>\n",
              "      <td>NaN</td>\n",
              "    </tr>\n",
              "  </tbody>\n",
              "</table>\n",
              "<p>891 rows × 10 columns</p>\n",
              "</div>"
            ],
            "text/plain": [
              "     Survived  Pclass     Sex   Age  SibSp  Parch     Fare Embarked Title Deck\n",
              "0           0       3    male  22.0      1      0   7.2500        S    MR  NaN\n",
              "1           1       1  female  38.0      1      0  71.2833        C   MRS    C\n",
              "2           1       3  female  26.0      0      0   7.9250        S  MISS  NaN\n",
              "3           1       1  female  35.0      1      0  53.1000        S   MRS    C\n",
              "4           0       3    male  35.0      0      0   8.0500        S    MR  NaN\n",
              "..        ...     ...     ...   ...    ...    ...      ...      ...   ...  ...\n",
              "886         0       2    male  27.0      0      0  13.0000        S   REV  NaN\n",
              "887         1       1  female  19.0      0      0  30.0000        S  MISS    B\n",
              "888         0       3  female   NaN      1      2  23.4500        S  MISS  NaN\n",
              "889         1       1    male  26.0      0      0  30.0000        C    MR    C\n",
              "890         0       3    male  32.0      0      0   7.7500        Q    MR  NaN\n",
              "\n",
              "[891 rows x 10 columns]"
            ]
          },
          "execution_count": 404,
          "metadata": {},
          "output_type": "execute_result"
        }
      ],
      "source": [
        "train_df['fare_bins'] = pd.cut(train_df['Fare'], bins=[x for x in range(0, 700, 100)])\n",
        "train_df['fare_bins'] = train_df['fare_bins'].apply(lambda x: x.right)\n",
        "plot_survival_for_class_features(train_df, 'fare_bins')\n",
        "train_df.drop(columns=['fare_bins'])\n"
      ]
    },
    {
      "cell_type": "code",
      "execution_count": 405,
      "id": "f1c37dfd",
      "metadata": {},
      "outputs": [
        {
          "data": {
            "text/html": [
              "<div>\n",
              "<style scoped>\n",
              "    .dataframe tbody tr th:only-of-type {\n",
              "        vertical-align: middle;\n",
              "    }\n",
              "\n",
              "    .dataframe tbody tr th {\n",
              "        vertical-align: top;\n",
              "    }\n",
              "\n",
              "    .dataframe thead th {\n",
              "        text-align: right;\n",
              "    }\n",
              "</style>\n",
              "<table border=\"1\" class=\"dataframe\">\n",
              "  <thead>\n",
              "    <tr style=\"text-align: right;\">\n",
              "      <th></th>\n",
              "      <th>Survived</th>\n",
              "      <th>Pclass</th>\n",
              "      <th>Sex</th>\n",
              "      <th>Age</th>\n",
              "      <th>SibSp</th>\n",
              "      <th>Parch</th>\n",
              "      <th>Fare</th>\n",
              "      <th>Embarked</th>\n",
              "      <th>Title</th>\n",
              "      <th>Deck</th>\n",
              "      <th>fare_bins</th>\n",
              "    </tr>\n",
              "  </thead>\n",
              "  <tbody>\n",
              "    <tr>\n",
              "      <th>0</th>\n",
              "      <td>0</td>\n",
              "      <td>3</td>\n",
              "      <td>male</td>\n",
              "      <td>22.0</td>\n",
              "      <td>1</td>\n",
              "      <td>0</td>\n",
              "      <td>7.2500</td>\n",
              "      <td>S</td>\n",
              "      <td>MR</td>\n",
              "      <td>NaN</td>\n",
              "      <td>100</td>\n",
              "    </tr>\n",
              "    <tr>\n",
              "      <th>1</th>\n",
              "      <td>1</td>\n",
              "      <td>1</td>\n",
              "      <td>female</td>\n",
              "      <td>38.0</td>\n",
              "      <td>1</td>\n",
              "      <td>0</td>\n",
              "      <td>71.2833</td>\n",
              "      <td>C</td>\n",
              "      <td>MRS</td>\n",
              "      <td>C</td>\n",
              "      <td>100</td>\n",
              "    </tr>\n",
              "    <tr>\n",
              "      <th>2</th>\n",
              "      <td>1</td>\n",
              "      <td>3</td>\n",
              "      <td>female</td>\n",
              "      <td>26.0</td>\n",
              "      <td>0</td>\n",
              "      <td>0</td>\n",
              "      <td>7.9250</td>\n",
              "      <td>S</td>\n",
              "      <td>MISS</td>\n",
              "      <td>NaN</td>\n",
              "      <td>100</td>\n",
              "    </tr>\n",
              "    <tr>\n",
              "      <th>3</th>\n",
              "      <td>1</td>\n",
              "      <td>1</td>\n",
              "      <td>female</td>\n",
              "      <td>35.0</td>\n",
              "      <td>1</td>\n",
              "      <td>0</td>\n",
              "      <td>53.1000</td>\n",
              "      <td>S</td>\n",
              "      <td>MRS</td>\n",
              "      <td>C</td>\n",
              "      <td>100</td>\n",
              "    </tr>\n",
              "    <tr>\n",
              "      <th>4</th>\n",
              "      <td>0</td>\n",
              "      <td>3</td>\n",
              "      <td>male</td>\n",
              "      <td>35.0</td>\n",
              "      <td>0</td>\n",
              "      <td>0</td>\n",
              "      <td>8.0500</td>\n",
              "      <td>S</td>\n",
              "      <td>MR</td>\n",
              "      <td>NaN</td>\n",
              "      <td>100</td>\n",
              "    </tr>\n",
              "  </tbody>\n",
              "</table>\n",
              "</div>"
            ],
            "text/plain": [
              "   Survived  Pclass     Sex   Age  SibSp  Parch     Fare Embarked Title Deck  \\\n",
              "0         0       3    male  22.0      1      0   7.2500        S    MR  NaN   \n",
              "1         1       1  female  38.0      1      0  71.2833        C   MRS    C   \n",
              "2         1       3  female  26.0      0      0   7.9250        S  MISS  NaN   \n",
              "3         1       1  female  35.0      1      0  53.1000        S   MRS    C   \n",
              "4         0       3    male  35.0      0      0   8.0500        S    MR  NaN   \n",
              "\n",
              "  fare_bins  \n",
              "0       100  \n",
              "1       100  \n",
              "2       100  \n",
              "3       100  \n",
              "4       100  "
            ]
          },
          "execution_count": 405,
          "metadata": {},
          "output_type": "execute_result"
        }
      ],
      "source": [
        "train_df.head()"
      ]
    },
    {
      "cell_type": "code",
      "execution_count": 406,
      "id": "cFCOOawhymLT",
      "metadata": {
        "colab": {
          "base_uri": "https://localhost:8080/",
          "height": 269
        },
        "id": "cFCOOawhymLT",
        "outputId": "b750e62b-5406-423b-bac3-074fdb4145de"
      },
      "outputs": [
        {
          "data": {
            "text/html": [
              "<div>\n",
              "<style scoped>\n",
              "    .dataframe tbody tr th:only-of-type {\n",
              "        vertical-align: middle;\n",
              "    }\n",
              "\n",
              "    .dataframe tbody tr th {\n",
              "        vertical-align: top;\n",
              "    }\n",
              "\n",
              "    .dataframe thead th {\n",
              "        text-align: right;\n",
              "    }\n",
              "</style>\n",
              "<table border=\"1\" class=\"dataframe\">\n",
              "  <thead>\n",
              "    <tr style=\"text-align: right;\">\n",
              "      <th></th>\n",
              "      <th></th>\n",
              "      <th>Age</th>\n",
              "      <th>SibSp</th>\n",
              "      <th>Parch</th>\n",
              "      <th>Fare</th>\n",
              "      <th>fare_bins</th>\n",
              "    </tr>\n",
              "    <tr>\n",
              "      <th>Sex</th>\n",
              "      <th>Pclass</th>\n",
              "      <th></th>\n",
              "      <th></th>\n",
              "      <th></th>\n",
              "      <th></th>\n",
              "      <th></th>\n",
              "    </tr>\n",
              "  </thead>\n",
              "  <tbody>\n",
              "    <tr>\n",
              "      <th rowspan=\"3\" valign=\"top\">female</th>\n",
              "      <th>1</th>\n",
              "      <td>63.0</td>\n",
              "      <td>3</td>\n",
              "      <td>2</td>\n",
              "      <td>512.3292</td>\n",
              "      <td>600</td>\n",
              "    </tr>\n",
              "    <tr>\n",
              "      <th>2</th>\n",
              "      <td>57.0</td>\n",
              "      <td>3</td>\n",
              "      <td>3</td>\n",
              "      <td>65.0000</td>\n",
              "      <td>100</td>\n",
              "    </tr>\n",
              "    <tr>\n",
              "      <th>3</th>\n",
              "      <td>63.0</td>\n",
              "      <td>8</td>\n",
              "      <td>6</td>\n",
              "      <td>69.5500</td>\n",
              "      <td>100</td>\n",
              "    </tr>\n",
              "    <tr>\n",
              "      <th rowspan=\"3\" valign=\"top\">male</th>\n",
              "      <th>1</th>\n",
              "      <td>80.0</td>\n",
              "      <td>3</td>\n",
              "      <td>4</td>\n",
              "      <td>512.3292</td>\n",
              "      <td>600</td>\n",
              "    </tr>\n",
              "    <tr>\n",
              "      <th>2</th>\n",
              "      <td>70.0</td>\n",
              "      <td>2</td>\n",
              "      <td>2</td>\n",
              "      <td>73.5000</td>\n",
              "      <td>100</td>\n",
              "    </tr>\n",
              "    <tr>\n",
              "      <th>3</th>\n",
              "      <td>74.0</td>\n",
              "      <td>8</td>\n",
              "      <td>5</td>\n",
              "      <td>69.5500</td>\n",
              "      <td>100</td>\n",
              "    </tr>\n",
              "  </tbody>\n",
              "</table>\n",
              "</div>"
            ],
            "text/plain": [
              "                Age  SibSp  Parch      Fare fare_bins\n",
              "Sex    Pclass                                        \n",
              "female 1       63.0      3      2  512.3292       600\n",
              "       2       57.0      3      3   65.0000       100\n",
              "       3       63.0      8      6   69.5500       100\n",
              "male   1       80.0      3      4  512.3292       600\n",
              "       2       70.0      2      2   73.5000       100\n",
              "       3       74.0      8      5   69.5500       100"
            ]
          },
          "execution_count": 406,
          "metadata": {},
          "output_type": "execute_result"
        }
      ],
      "source": [
        "train_df.groupby(['Sex', 'Pclass'])[['Age', 'SibSp', 'Parch', 'Fare', 'fare_bins']].max()"
      ]
    },
    {
      "cell_type": "markdown",
      "id": "2603fcce",
      "metadata": {},
      "source": [
        "wimen paid on average more in every class than men!!! --> Discrimination"
      ]
    },
    {
      "cell_type": "code",
      "execution_count": 407,
      "id": "pDt55tnyzaAx",
      "metadata": {
        "colab": {
          "base_uri": "https://localhost:8080/",
          "height": 143
        },
        "id": "pDt55tnyzaAx",
        "outputId": "d5511bbd-4230-4155-d324-08e8c570a1c2"
      },
      "outputs": [
        {
          "data": {
            "text/html": [
              "<div>\n",
              "<style scoped>\n",
              "    .dataframe tbody tr th:only-of-type {\n",
              "        vertical-align: middle;\n",
              "    }\n",
              "\n",
              "    .dataframe tbody tr th {\n",
              "        vertical-align: top;\n",
              "    }\n",
              "\n",
              "    .dataframe thead th {\n",
              "        text-align: right;\n",
              "    }\n",
              "</style>\n",
              "<table border=\"1\" class=\"dataframe\">\n",
              "  <thead>\n",
              "    <tr style=\"text-align: right;\">\n",
              "      <th></th>\n",
              "      <th>Age</th>\n",
              "      <th>SibSp</th>\n",
              "      <th>Parch</th>\n",
              "      <th>Fare</th>\n",
              "    </tr>\n",
              "    <tr>\n",
              "      <th>Survived</th>\n",
              "      <th></th>\n",
              "      <th></th>\n",
              "      <th></th>\n",
              "      <th></th>\n",
              "    </tr>\n",
              "  </thead>\n",
              "  <tbody>\n",
              "    <tr>\n",
              "      <th>0</th>\n",
              "      <td>30.626179</td>\n",
              "      <td>0.553734</td>\n",
              "      <td>0.329690</td>\n",
              "      <td>22.117887</td>\n",
              "    </tr>\n",
              "    <tr>\n",
              "      <th>1</th>\n",
              "      <td>28.343690</td>\n",
              "      <td>0.473684</td>\n",
              "      <td>0.464912</td>\n",
              "      <td>48.395408</td>\n",
              "    </tr>\n",
              "  </tbody>\n",
              "</table>\n",
              "</div>"
            ],
            "text/plain": [
              "                Age     SibSp     Parch       Fare\n",
              "Survived                                          \n",
              "0         30.626179  0.553734  0.329690  22.117887\n",
              "1         28.343690  0.473684  0.464912  48.395408"
            ]
          },
          "execution_count": 407,
          "metadata": {},
          "output_type": "execute_result"
        }
      ],
      "source": [
        "train_df.groupby(['Survived'])[['Age', 'SibSp', 'Parch', 'Fare']].mean()"
      ]
    },
    {
      "cell_type": "code",
      "execution_count": 408,
      "id": "VSMLt5e_zg-j",
      "metadata": {
        "id": "VSMLt5e_zg-j"
      },
      "outputs": [
        {
          "data": {
            "image/png": "[encoded data removed]",
            "text/plain": [
              "<Figure size 640x480 with 2 Axes>"
            ]
          },
          "metadata": {},
          "output_type": "display_data"
        }
      ],
      "source": [
        "numerics_df = train_df[['Age', 'Pclass', 'SibSp', 'Parch', 'Fare']]\n",
        "\n",
        "ax = sns.heatmap(numerics_df.corr(), annot=True)\n",
        "\n"
      ]
    },
    {
      "cell_type": "markdown",
      "id": "464d72b6",
      "metadata": {},
      "source": [
        "### Interpretation:\n",
        "- moderate positive correlation between SibSp and Parch. Higher probabilty of familiy travelling\n",
        "- moderate negative correlation between Pclass and age --> Older people more likely to travel in hiher class\n",
        "- strong negative between higher pclass and fare --> higher classes are more expensive ...\n",
        "- slight negative correlation between SipSp and Age. Young travellers tend to have more siblings or spouses..."
      ]
    },
    {
      "cell_type": "markdown",
      "id": "aebac9d3",
      "metadata": {},
      "source": [
        "# Data preprocessing\n",
        "- drop outliers in fare\n",
        "- impute values\n",
        "- combine SibSp and Parch\n",
        "- Z score normalize the numeric features\n",
        "- one hot encoding for categorized features"
      ]
    },
    {
      "cell_type": "code",
      "execution_count": 409,
      "id": "1b135c67",
      "metadata": {},
      "outputs": [],
      "source": [
        "def z_score_normalization(df, features):\n",
        "    for feature in features:\n",
        "        mean = df[feature].mean()\n",
        "        std = df[feature].std()\n",
        "\n",
        "        df[feature] = (df[feature] - mean)/std"
      ]
    },
    {
      "cell_type": "markdown",
      "id": "cf70f274",
      "metadata": {},
      "source": [
        "### 1. Impute the missing ages with the mean"
      ]
    },
    {
      "cell_type": "code",
      "execution_count": 410,
      "id": "fa71a1dd",
      "metadata": {},
      "outputs": [
        {
          "name": "stdout",
          "output_type": "stream",
          "text": [
            "<class 'pandas.core.frame.DataFrame'>\n",
            "RangeIndex: 891 entries, 0 to 890\n",
            "Data columns (total 11 columns):\n",
            " #   Column     Non-Null Count  Dtype   \n",
            "---  ------     --------------  -----   \n",
            " 0   Survived   891 non-null    int64   \n",
            " 1   Pclass     891 non-null    int64   \n",
            " 2   Sex        891 non-null    object  \n",
            " 3   Age        891 non-null    float64 \n",
            " 4   SibSp      891 non-null    int64   \n",
            " 5   Parch      891 non-null    int64   \n",
            " 6   Fare       891 non-null    float64 \n",
            " 7   Embarked   889 non-null    object  \n",
            " 8   Title      873 non-null    object  \n",
            " 9   Deck       204 non-null    object  \n",
            " 10  fare_bins  876 non-null    category\n",
            "dtypes: category(1), float64(2), int64(4), object(4)\n",
            "memory usage: 70.8+ KB\n"
          ]
        }
      ],
      "source": [
        "train_df['Age'] = train_df['Age'].fillna(train_df['Age'].mean())\n",
        "train_df.info()"
      ]
    },
    {
      "cell_type": "code",
      "execution_count": 411,
      "id": "c48e6f47",
      "metadata": {},
      "outputs": [],
      "source": [
        "#Replace outlier fare the outlier\n",
        "pclass_1_fare_mean = train_df[train_df['Pclass'] == 1]['Fare'].mean()\n",
        "train_df.loc[train_df['Fare'] > 300, 'Fare'] = pclass_1_fare_mean\n"
      ]
    },
    {
      "cell_type": "markdown",
      "id": "7050c633",
      "metadata": {},
      "source": [
        "### Combine SibSP and Parch"
      ]
    },
    {
      "cell_type": "code",
      "execution_count": 412,
      "id": "7c44c2fd",
      "metadata": {},
      "outputs": [],
      "source": [
        "#adding 1 is not relevant for traing but just for correctness\n",
        "train_df['Family_Size'] = train_df['SibSp'] + train_df['Parch'] + 1"
      ]
    },
    {
      "cell_type": "markdown",
      "id": "37ef33d4",
      "metadata": {},
      "source": [
        "### Normalizing"
      ]
    },
    {
      "cell_type": "code",
      "execution_count": 415,
      "id": "fcb6a3bd",
      "metadata": {},
      "outputs": [
        {
          "data": {
            "text/html": [
              "<div>\n",
              "<style scoped>\n",
              "    .dataframe tbody tr th:only-of-type {\n",
              "        vertical-align: middle;\n",
              "    }\n",
              "\n",
              "    .dataframe tbody tr th {\n",
              "        vertical-align: top;\n",
              "    }\n",
              "\n",
              "    .dataframe thead th {\n",
              "        text-align: right;\n",
              "    }\n",
              "</style>\n",
              "<table border=\"1\" class=\"dataframe\">\n",
              "  <thead>\n",
              "    <tr style=\"text-align: right;\">\n",
              "      <th></th>\n",
              "      <th>Survived</th>\n",
              "      <th>Pclass</th>\n",
              "      <th>Age</th>\n",
              "      <th>SibSp</th>\n",
              "      <th>Parch</th>\n",
              "      <th>Fare</th>\n",
              "      <th>Family_Size</th>\n",
              "    </tr>\n",
              "  </thead>\n",
              "  <tbody>\n",
              "    <tr>\n",
              "      <th>count</th>\n",
              "      <td>891.000000</td>\n",
              "      <td>8.910000e+02</td>\n",
              "      <td>8.910000e+02</td>\n",
              "      <td>891.000000</td>\n",
              "      <td>891.000000</td>\n",
              "      <td>8.910000e+02</td>\n",
              "      <td>8.910000e+02</td>\n",
              "    </tr>\n",
              "    <tr>\n",
              "      <th>mean</th>\n",
              "      <td>0.383838</td>\n",
              "      <td>-2.392400e-17</td>\n",
              "      <td>-7.974666e-18</td>\n",
              "      <td>0.523008</td>\n",
              "      <td>0.381594</td>\n",
              "      <td>5.980999e-18</td>\n",
              "      <td>1.594933e-17</td>\n",
              "    </tr>\n",
              "    <tr>\n",
              "      <th>std</th>\n",
              "      <td>0.486592</td>\n",
              "      <td>1.000000e+00</td>\n",
              "      <td>1.000000e+00</td>\n",
              "      <td>1.102743</td>\n",
              "      <td>0.806057</td>\n",
              "      <td>1.000000e+00</td>\n",
              "      <td>1.000000e+00</td>\n",
              "    </tr>\n",
              "    <tr>\n",
              "      <th>min</th>\n",
              "      <td>0.000000</td>\n",
              "      <td>-1.565228e+00</td>\n",
              "      <td>-2.251891e+00</td>\n",
              "      <td>0.000000</td>\n",
              "      <td>0.000000</td>\n",
              "      <td>-7.462286e-01</td>\n",
              "      <td>-5.606599e-01</td>\n",
              "    </tr>\n",
              "    <tr>\n",
              "      <th>25%</th>\n",
              "      <td>0.000000</td>\n",
              "      <td>-3.691575e-01</td>\n",
              "      <td>-5.921480e-01</td>\n",
              "      <td>0.000000</td>\n",
              "      <td>0.000000</td>\n",
              "      <td>-5.543405e-01</td>\n",
              "      <td>-5.606599e-01</td>\n",
              "    </tr>\n",
              "    <tr>\n",
              "      <th>50%</th>\n",
              "      <td>0.000000</td>\n",
              "      <td>8.269128e-01</td>\n",
              "      <td>-2.073413e-16</td>\n",
              "      <td>0.000000</td>\n",
              "      <td>0.000000</td>\n",
              "      <td>-3.956029e-01</td>\n",
              "      <td>-5.606599e-01</td>\n",
              "    </tr>\n",
              "    <tr>\n",
              "      <th>75%</th>\n",
              "      <td>1.000000</td>\n",
              "      <td>8.269128e-01</td>\n",
              "      <td>4.076970e-01</td>\n",
              "      <td>1.000000</td>\n",
              "      <td>0.000000</td>\n",
              "      <td>5.760163e-03</td>\n",
              "      <td>5.912667e-02</td>\n",
              "    </tr>\n",
              "    <tr>\n",
              "      <th>max</th>\n",
              "      <td>1.000000</td>\n",
              "      <td>8.269128e-01</td>\n",
              "      <td>3.868699e+00</td>\n",
              "      <td>8.000000</td>\n",
              "      <td>6.000000</td>\n",
              "      <td>5.633547e+00</td>\n",
              "      <td>5.637206e+00</td>\n",
              "    </tr>\n",
              "  </tbody>\n",
              "</table>\n",
              "</div>"
            ],
            "text/plain": [
              "         Survived        Pclass           Age       SibSp       Parch  \\\n",
              "count  891.000000  8.910000e+02  8.910000e+02  891.000000  891.000000   \n",
              "mean     0.383838 -2.392400e-17 -7.974666e-18    0.523008    0.381594   \n",
              "std      0.486592  1.000000e+00  1.000000e+00    1.102743    0.806057   \n",
              "min      0.000000 -1.565228e+00 -2.251891e+00    0.000000    0.000000   \n",
              "25%      0.000000 -3.691575e-01 -5.921480e-01    0.000000    0.000000   \n",
              "50%      0.000000  8.269128e-01 -2.073413e-16    0.000000    0.000000   \n",
              "75%      1.000000  8.269128e-01  4.076970e-01    1.000000    0.000000   \n",
              "max      1.000000  8.269128e-01  3.868699e+00    8.000000    6.000000   \n",
              "\n",
              "               Fare   Family_Size  \n",
              "count  8.910000e+02  8.910000e+02  \n",
              "mean   5.980999e-18  1.594933e-17  \n",
              "std    1.000000e+00  1.000000e+00  \n",
              "min   -7.462286e-01 -5.606599e-01  \n",
              "25%   -5.543405e-01 -5.606599e-01  \n",
              "50%   -3.956029e-01 -5.606599e-01  \n",
              "75%    5.760163e-03  5.912667e-02  \n",
              "max    5.633547e+00  5.637206e+00  "
            ]
          },
          "execution_count": 415,
          "metadata": {},
          "output_type": "execute_result"
        }
      ],
      "source": [
        "z_score_normalization(train_df, ['Pclass', 'Age', 'Family_Size', 'Fare'])\n",
        "train_df.describe()"
      ]
    },
    {
      "cell_type": "markdown",
      "id": "2fa0b749",
      "metadata": {},
      "source": [
        "# Model Training"
      ]
    },
    {
      "cell_type": "markdown",
      "id": "4dc39117",
      "metadata": {},
      "source": [
        "## Split the training data"
      ]
    },
    {
      "cell_type": "code",
      "execution_count": null,
      "id": "1daed8cd",
      "metadata": {},
      "outputs": [],
      "source": []
    },
    {
      "cell_type": "code",
      "execution_count": 99,
      "id": "5954b9b2",
      "metadata": {},
      "outputs": [
        {
          "name": "stdout",
          "output_type": "stream",
          "text": [
            "Empty DataFrame\n",
            "Columns: [Pclass, Sex, Age, SibSp, Parch, Fare, Embarked]\n",
            "Index: []\n",
            "<class 'pandas.core.frame.DataFrame'>\n",
            "Index: 417 entries, 0 to 417\n",
            "Data columns (total 7 columns):\n",
            " #   Column    Non-Null Count  Dtype  \n",
            "---  ------    --------------  -----  \n",
            " 0   Pclass    417 non-null    int64  \n",
            " 1   Sex       417 non-null    object \n",
            " 2   Age       417 non-null    float64\n",
            " 3   SibSp     417 non-null    int64  \n",
            " 4   Parch     417 non-null    int64  \n",
            " 5   Fare      417 non-null    float64\n",
            " 6   Embarked  417 non-null    object \n",
            "dtypes: float64(2), int64(3), object(2)\n",
            "memory usage: 26.1+ KB\n"
          ]
        }
      ],
      "source": [
        "from sklearn.preprocessing import StandardScaler, OneHotEncoder\n",
        "\n",
        "test_df = test_df[['Pclass', 'Sex', 'Age', 'SibSp', 'Parch', 'Fare', 'Embarked']]\n",
        "test_df['Age'] = test_df['Age'].fillna(test_df['Age'].mean())\n",
        "\n",
        "print(test_df[test_df['Fare'].isna()])\n",
        "\n",
        "test_df.dropna(axis=0, inplace=True)\n",
        "test_df.info()\n",
        "\n",
        "train_df['FamSize'] = train_df['SibSp'] + train_df['Parch'] + 1\n",
        "test_df['FamSize'] = test_df['SibSp'] + test_df['Parch'] + 1\n",
        "\n",
        "scaler = StandardScaler()\n",
        "X_train_num = scaler.fit_transform(train_df[['Pclass', 'Age', 'FamSize', 'Fare']])\n",
        "X_test_num = scaler.fit_transform(test_df[['Pclass', 'Age', 'FamSize', 'Fare']])\n",
        "\n",
        "encoder = OneHotEncoder(sparse_output=False)\n",
        "X_train_cat = encoder.fit_transform(train_df[['Sex', 'Embarked']])\n",
        "X_test_cat = encoder.fit_transform(test_df[['Sex', 'Embarked']])\n",
        "\n",
        "X_train = np.hstack((X_train_num, X_train_cat))\n",
        "X_test = np.hstack((X_test_num, X_test_cat))\n",
        "y_train = train_df['Survived'].to_numpy()\n",
        "\n",
        "\n"
      ]
    },
    {
      "cell_type": "code",
      "execution_count": 114,
      "id": "aab1a4fe",
      "metadata": {},
      "outputs": [],
      "source": [
        "from sklearn.linear_model import LogisticRegression\n",
        "\n",
        "model = LogisticRegression(max_iter=1000)\n",
        "model.fit(X_train, y_train)\n",
        "\n",
        "log_reg_result = model.predict(X_test)"
      ]
    },
    {
      "cell_type": "code",
      "execution_count": 135,
      "id": "b6fbb771",
      "metadata": {},
      "outputs": [],
      "source": [
        "from sklearn import tree\n",
        "\n",
        "tree_clf = tree.DecisionTreeClassifier(max_depth=6)\n",
        "tree_clf.fit(X_train, y_train)\n",
        "\n",
        "dectree_result = tree_clf.predict(X_test)"
      ]
    },
    {
      "cell_type": "code",
      "execution_count": 139,
      "id": "ebf66612",
      "metadata": {},
      "outputs": [],
      "source": [
        "from sklearn.ensemble import RandomForestClassifier\n",
        "\n",
        "forest_clf = RandomForestClassifier()\n",
        "forest_clf.fit(X_train, y_train)\n",
        "\n",
        "forest_clf_result = forest_clf.predict(X_test)\n"
      ]
    },
    {
      "cell_type": "code",
      "execution_count": 141,
      "id": "6f23258e",
      "metadata": {},
      "outputs": [
        {
          "name": "stdout",
          "output_type": "stream",
          "text": [
            "Counter({np.True_: 323, np.False_: 94})\n"
          ]
        }
      ],
      "source": [
        "ctr = Counter(log_reg_result == forest_clf_result)\n",
        "\n",
        "print(ctr)"
      ]
    }
  ],
  "metadata": {
    "colab": {
      "provenance": []
    },
    "kernelspec": {
      "display_name": "Python 3",
      "language": "python",
      "name": "python3"
    },
    "language_info": {
      "codemirror_mode": {
        "name": "ipython",
        "version": 3
      },
      "file_extension": ".py",
      "mimetype": "text/x-python",
      "name": "python",
      "nbconvert_exporter": "python",
      "pygments_lexer": "ipython3",
      "version": "3.12.8"
    }
  },
  "nbformat": 4,
  "nbformat_minor": 5
}
